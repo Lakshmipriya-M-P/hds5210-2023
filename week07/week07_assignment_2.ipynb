{
  "cells": [
    {
      "cell_type": "markdown",
      "metadata": {
        "id": "view-in-github",
        "colab_type": "text"
      },
      "source": [
        "<a href=\"https://colab.research.google.com/github/Lakshmipriya-M-P/hds5210-2023/blob/main/week07/week07_assignment_2.ipynb\" target=\"_parent\"><img src=\"https://colab.research.google.com/assets/colab-badge.svg\" alt=\"Open In Colab\"/></a>"
      ]
    },
    {
      "cell_type": "markdown",
      "metadata": {
        "id": "xSXNHLg66Zxe"
      },
      "source": [
        "# Week 7 Assignment\n",
        "\n",
        "We've been working with different types of data structures in Python (dictionary, list, etc), how those are represented in JSON documents, and how to write code to access specific data elements. In this week's assignment, you will need to create your own JSON document to store information about yourself and the grades you've received from week 1 to week 4 and the week 6 quiz.  That is, everything you should have received a grade for.  Then you'll need to show me you know how to navigate the JSON in that file.\n",
        "\n",
        "Different from what we've done in the past, you do not have to write any functions or include any docstrings.  Just create some JSON and write some code.\n",
        "\n",
        "---"
      ]
    },
    {
      "cell_type": "markdown",
      "metadata": {
        "id": "-G_nBnuq6Zxi"
      },
      "source": [
        "## 7.1 Create a JSON string\n",
        "\n",
        "Create a JSON string that contains your name, email, year you were born, all of the grades you've received back so far, and a comment about what you thought was most challenging on each of those assignments.  This can be any structure you choose, but make sure it uses a dictionary and a list, and has at least two levels of hierarchy.  That is, it can't just be one big long list."
      ]
    },
    {
      "cell_type": "markdown",
      "metadata": {
        "id": "XpMx9pS76Zxj"
      },
      "source": [
        "First, explain how your data structure is going to look..."
      ]
    },
    {
      "cell_type": "markdown",
      "metadata": {
        "id": "jGvPTB5V6Zxj"
      },
      "source": [
        "* Put your explanation here in text..."
      ]
    },
    {
      "cell_type": "markdown",
      "metadata": {
        "id": "uGbZpZhA6Zxk"
      },
      "source": [
        "Then put the actual JSON you've created inside the multiline string below..."
      ]
    },
    {
      "cell_type": "code",
      "source": [
        "# Import the JSON module\n",
        "# Define a dictionary containing personal information\n",
        "# Define a list of the assignment, grades recieved and challenges faced\n",
        "# Convert the dictionary to a JSON-formatted string\n",
        "# Print the JSON string"
      ],
      "metadata": {
        "id": "WYiTEWx66it3"
      },
      "execution_count": null,
      "outputs": []
    },
    {
      "cell_type": "code",
      "execution_count": 17,
      "metadata": {
        "id": "poTuBrIW6Zxk",
        "outputId": "23690f99-f4be-4bc0-af57-5993d799b6b5",
        "colab": {
          "base_uri": "https://localhost:8080/"
        }
      },
      "outputs": [
        {
          "output_type": "stream",
          "name": "stdout",
          "text": [
            "{\n",
            " \"name\": \"Lakshmipriya\",\n",
            " \"mail\": \"lmallikarjunapan@slu.com\",\n",
            " \"year_of_birth\": \"2000\",\n",
            " \"HDS5210\": [\n",
            "  {\n",
            "   \"assignment\": \"Week_05\",\n",
            "   \"grades_received\": \"0\",\n",
            "   \"challenges_faced\": \"To understand the code submission to the repository with docstring.\"\n",
            "  },\n",
            "  {\n",
            "   \"assignment\": \"Week_04\",\n",
            "   \"grades_received\": \"3\",\n",
            "   \"challenges_faced\": \"To submit the code to the repository\"\n",
            "  },\n",
            "  {\n",
            "   \"assignment\": \"Week_03\",\n",
            "   \"grades_received\": \"18\",\n",
            "   \"challenges_faced\": \"To work on the problems related to medical records and population\"\n",
            "  },\n",
            "  {\n",
            "   \"assignment\": \"Week_02\",\n",
            "   \"grades_received\": \"20.5\",\n",
            "   \"challenges_faced\": \"To work on the weights, heights and BMI of the patient\"\n",
            "  },\n",
            "  {\n",
            "   \"assignment\": \"Week_01\",\n",
            "   \"grades_received\": \"5\",\n",
            "   \"challenges_faced\": \"To confirm with the solutions which should be free from plagiarism.\"\n",
            "  }\n",
            " ]\n",
            "}\n"
          ]
        }
      ],
      "source": [
        "import json\n",
        "\n",
        "my_data =   {\n",
        "    \"name\": \"Lakshmipriya\",\n",
        "    \"mail\": \"lmallikarjunapan@slu.com\",\n",
        "    \"year_of_birth\": \"2000\",\n",
        "    \"HDS5210\": [\n",
        "        {\n",
        "            \"assignment\": \"Week_05\",\n",
        "            \"grades_received\": \"0\",\n",
        "            \"challenges_faced\": \"To understand the code submission to the repository with docstring.\"\n",
        "        },\n",
        "        {\n",
        "            \"assignment\": \"Week_04\",\n",
        "            \"grades_received\": \"3\",\n",
        "            \"challenges_faced\": \"To submit the code to the repository\"\n",
        "        },\n",
        "        {\n",
        "            \"assignment\": \"Week_03\",\n",
        "            \"grades_received\": \"18\",\n",
        "            \"challenges_faced\": \"To work on the problems related to medical records and population\"\n",
        "        },\n",
        "        {\n",
        "            \"assignment\": \"Week_02\",\n",
        "            \"grades_received\": \"20.5\",\n",
        "            \"challenges_faced\": \"To work on the weights, heights and BMI of the patient\"\n",
        "        },\n",
        "        {\n",
        "            \"assignment\": \"Week_01\",\n",
        "            \"grades_received\": \"5\",\n",
        "            \"challenges_faced\": \"To confirm with the solutions which should be free from plagiarism.\"\n",
        "        }\n",
        "    ]\n",
        "}\n",
        "\n",
        "\n",
        "\n",
        "json_str = json.dumps(my_data, indent=1)\n",
        "print(json_str)"
      ]
    },
    {
      "cell_type": "markdown",
      "metadata": {
        "id": "XVrsQtMw6Zxl"
      },
      "source": [
        "## 7.2 Do something with your JSON\n",
        "\n",
        "Now use Python code to do something with the Json above.  Turn it into English text, but make sure that you use at least one loop to access some dict or list content of your JSON.  Below, I've provided some basic code to read in the string above as JSON and return a Python object.  Your job is to work with that data structure and print out the important information like your name, email, and how you did on each assignment."
      ]
    },
    {
      "cell_type": "code",
      "source": [
        "# Import the JSON module\n",
        "# Define a dictionary containing all personal information\n",
        "# Define a list of the assignment, grades received and challenges faced inside the dictionary\n",
        "# Parse the JSON string into a Python object\n",
        "# Extract and print important information\n",
        "# Loop through the assignment data\n",
        "# print assignment details"
      ],
      "metadata": {
        "id": "VyJzJyUA7hkY"
      },
      "execution_count": null,
      "outputs": []
    },
    {
      "cell_type": "code",
      "execution_count": 19,
      "metadata": {
        "id": "ooJaa5t96Zxm",
        "outputId": "077c9cf3-f118-45a5-8107-d2fe62683f54",
        "colab": {
          "base_uri": "https://localhost:8080/"
        }
      },
      "outputs": [
        {
          "output_type": "stream",
          "name": "stdout",
          "text": [
            "Name: Lakshmipriya\n",
            "Mail: lmallikarjunapan@slu.com\n",
            "Year of Birth: 2000\n",
            "Assignment: Week_05\n",
            "Grades Received: 0\n",
            "Challenges Faced: To understand the code submission to the repository with docstring.\n",
            "Assignment: Week_04\n",
            "Grades Received: 3\n",
            "Challenges Faced: To submit the code to the repository\n",
            "Assignment: Week_03\n",
            "Grades Received: 18\n",
            "Challenges Faced: To work on the problems related to medical records and population\n",
            "Assignment: Week_02\n",
            "Grades Received: 20.5\n",
            "Challenges Faced: To work on the weights, heights and BMI of the patient\n",
            "Assignment: Week_01\n",
            "Grades Received: 5\n",
            "Challenges Faced: To confirm with the solutions which should be free from plagiarism.\n"
          ]
        }
      ],
      "source": [
        "import json\n",
        "\n",
        "my_data = \"\"\"\n",
        "{\n",
        "    \"name\": \"Lakshmipriya\",\n",
        "    \"mail\": \"lmallikarjunapan@slu.com\",\n",
        "    \"year_of_birth\": \"2000\",\n",
        "    \"HDS5210\": [\n",
        "        {\n",
        "            \"assignment\": \"Week_05\",\n",
        "            \"grades_received\": \"0\",\n",
        "            \"challenges_faced\": \"To understand the code submission to the repository with docstring.\"\n",
        "        },\n",
        "        {\n",
        "            \"assignment\": \"Week_04\",\n",
        "            \"grades_received\": \"3\",\n",
        "            \"challenges_faced\": \"To submit the code to the repository\"\n",
        "        },\n",
        "        {\n",
        "            \"assignment\": \"Week_03\",\n",
        "            \"grades_received\": \"18\",\n",
        "            \"challenges_faced\": \"To work on the problems related to medical records and population\"\n",
        "        },\n",
        "        {\n",
        "            \"assignment\": \"Week_02\",\n",
        "            \"grades_received\": \"20.5\",\n",
        "            \"challenges_faced\": \"To work on the weights, heights and BMI of the patient\"\n",
        "        },\n",
        "        {\n",
        "            \"assignment\": \"Week_01\",\n",
        "            \"grades_received\": \"5\",\n",
        "            \"challenges_faced\": \"To confirm with the solutions which should be free from plagiarism.\"\n",
        "        }\n",
        "    ]\n",
        "}\n",
        "\"\"\"\n",
        "\n",
        "\n",
        "data = json.loads(my_data)\n",
        "\n",
        "print(f\"Name: {data['name']}\")\n",
        "print(f\"Mail: {data['mail']}\")\n",
        "print(f\"Year of Birth: {data['year_of_birth']}\")\n",
        "for grade_inf in data['HDS5210']:\n",
        "    print(f\"Assignment: {grade_inf['assignment']}\")\n",
        "    print(f\"Grades Received: {grade_inf['grades_received']}\")\n",
        "    print(f\"Challenges Faced: {grade_inf['challenges_faced']}\")"
      ]
    },
    {
      "cell_type": "markdown",
      "metadata": {
        "id": "o0vTd7Zb6Zxn"
      },
      "source": [
        "## 7.3 Reflect\n",
        "\n",
        "Write a paragraph on any reflections you have. Was this hard? Easy?  What parts were most challenging or easiest? What did you like or dislike about the assignment?  Share whatever important thoughts you have abou this assignment."
      ]
    },
    {
      "cell_type": "markdown",
      "metadata": {
        "id": "aLkDBtlh6Zxn"
      },
      "source": [
        "The python code is the portion that I find easiest to write, but inserting lists and dictionaries into the JSON code so that I may use it throughout the whole code of python functions makes me challenging. But I'm slowly learning how to do it even better than I am at present. In this exercise adding personal information as dictionary and the assignment, grades received and the part of challenge faced."
      ]
    },
    {
      "cell_type": "markdown",
      "metadata": {
        "id": "Odn5dPUY6Zxn"
      },
      "source": [
        "---\n",
        "\n",
        "# Example\n",
        "\n",
        "Below is an example of something similar, but this uses information my and my friend's kids instead of grades."
      ]
    },
    {
      "cell_type": "code",
      "execution_count": 13,
      "metadata": {
        "id": "PXZdAugA6Zxo",
        "outputId": "f8914b8e-b25b-4744-975d-5988d643d40f",
        "colab": {
          "base_uri": "https://localhost:8080/"
        }
      },
      "outputs": [
        {
          "output_type": "stream",
          "name": "stdout",
          "text": [
            "Hi, my name is Paul. I've got 3 kids. Their names are Ellie, Ada, Teddy.\n",
            "My friend, Anny has 1 kids. That's fewer than me. Their names are 1\n"
          ]
        }
      ],
      "source": [
        "hds5210 = \"\"\"\n",
        "{\n",
        "    \"me\": {\n",
        "        \"name\": \"Paul\",\n",
        "        \"kids\": [\"Ellie\", \"Ada\", \"Teddy\"]\n",
        "    },\n",
        "    \"friend\": {\n",
        "        \"name\": \"Anny\",\n",
        "        \"kids\": [\"Abby\"]\n",
        "    }\n",
        "}\n",
        "\"\"\"\n",
        "\n",
        "import json\n",
        "\n",
        "info = json.loads(hds5210)\n",
        "\n",
        "me = info[\"me\"][\"name\"]\n",
        "my_kids_count = len(info[\"me\"][\"kids\"])\n",
        "kids_list = \", \".join(info[\"me\"][\"kids\"])\n",
        "friend = info[\"friend\"][\"name\"]\n",
        "friends_kid_count = len(info[\"friend\"][\"kids\"])\n",
        "friend_kids = \", \".join(info[\"friend\"][\"kids\"])\n",
        "compare = \"more\" if friends_kid_count > my_kids_count else \"fewer\"\n",
        "\n",
        "print(f\"Hi, my name is {me}. I've got {my_kids_count} kids. Their names are {kids_list}.\")\n",
        "print(f\"My friend, {friend} has {friends_kid_count} kids. That's {compare} than me. Their names are {friends_kid_count}\")"
      ]
    }
  ],
  "metadata": {
    "kernelspec": {
      "display_name": "Python 3",
      "language": "python",
      "name": "python3"
    },
    "language_info": {
      "codemirror_mode": {
        "name": "ipython",
        "version": 3
      },
      "file_extension": ".py",
      "mimetype": "text/x-python",
      "name": "python",
      "nbconvert_exporter": "python",
      "pygments_lexer": "ipython3",
      "version": "3.9.16"
    },
    "colab": {
      "provenance": [],
      "include_colab_link": true
    }
  },
  "nbformat": 4,
  "nbformat_minor": 0
}